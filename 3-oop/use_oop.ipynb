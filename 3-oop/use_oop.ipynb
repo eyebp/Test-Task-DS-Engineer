{
 "cells": [
  {
   "cell_type": "code",
   "execution_count": 1,
   "id": "a90f6908",
   "metadata": {},
   "outputs": [],
   "source": [
    "import numpy as np\n",
    "import torch\n",
    "from torchvision import datasets\n",
    "from torchvision.transforms import ToTensor\n",
    "import oop"
   ]
  },
  {
   "cell_type": "code",
   "execution_count": 2,
   "id": "834f21d7",
   "metadata": {},
   "outputs": [
    {
     "data": {
      "text/plain": [
       "array(0)"
      ]
     },
     "execution_count": 2,
     "metadata": {},
     "output_type": "execute_result"
    }
   ],
   "source": [
    "# test CNN classifier.\n",
    "dc = oop.DigitClassifier(algorithm='cnn')\n",
    "dc.predict(np.random.rand(28, 28, 1).astype(np.float32))"
   ]
  },
  {
   "cell_type": "code",
   "execution_count": 3,
   "id": "ceea0aaa",
   "metadata": {},
   "outputs": [],
   "source": [
    "# Use actual digit data to test.\n",
    "test_data = datasets.MNIST(\n",
    "    root = 'data', \n",
    "    train = False, \n",
    "    transform = ToTensor()\n",
    ")"
   ]
  },
  {
   "cell_type": "code",
   "execution_count": 4,
   "id": "086d6296",
   "metadata": {},
   "outputs": [
    {
     "data": {
      "text/plain": [
       "tensor(7)"
      ]
     },
     "execution_count": 4,
     "metadata": {},
     "output_type": "execute_result"
    }
   ],
   "source": [
    "test_data.targets[0]"
   ]
  },
  {
   "cell_type": "code",
   "execution_count": 9,
   "id": "ad0b9d20",
   "metadata": {},
   "outputs": [
    {
     "data": {
      "text/plain": [
       "array(7)"
      ]
     },
     "execution_count": 9,
     "metadata": {},
     "output_type": "execute_result"
    }
   ],
   "source": [
    "test_set = test_data.data[0].to(torch.float32).reshape(28, 28, 1)\n",
    "dc.predict(test_set)"
   ]
  },
  {
   "cell_type": "code",
   "execution_count": 6,
   "id": "ac95786e",
   "metadata": {},
   "outputs": [
    {
     "data": {
      "text/plain": [
       "array(7)"
      ]
     },
     "execution_count": 6,
     "metadata": {},
     "output_type": "execute_result"
    }
   ],
   "source": [
    "# test random forest classifier\n",
    "dc2 = oop.DigitClassifier(algorithm='rf')\n",
    "dc2.predict(test_set)"
   ]
  },
  {
   "cell_type": "code",
   "execution_count": 7,
   "id": "c372b7b5",
   "metadata": {},
   "outputs": [
    {
     "data": {
      "text/plain": [
       "array(5)"
      ]
     },
     "execution_count": 7,
     "metadata": {},
     "output_type": "execute_result"
    }
   ],
   "source": [
    "# test random classifier\n",
    "dc3 = oop.DigitClassifier(algorithm='rand')\n",
    "dc3.predict(test_set)"
   ]
  }
 ],
 "metadata": {
  "kernelspec": {
   "display_name": "Python 3 (ipykernel)",
   "language": "python",
   "name": "python3"
  },
  "language_info": {
   "codemirror_mode": {
    "name": "ipython",
    "version": 3
   },
   "file_extension": ".py",
   "mimetype": "text/x-python",
   "name": "python",
   "nbconvert_exporter": "python",
   "pygments_lexer": "ipython3",
   "version": "3.11.1"
  }
 },
 "nbformat": 4,
 "nbformat_minor": 5
}
