{
 "cells": [
  {
   "cell_type": "code",
   "execution_count": 1,
   "id": "3c413e8a",
   "metadata": {},
   "outputs": [],
   "source": [
    "def depth_explore(i: int, j: int):\n",
    "    '''\n",
    "    secondary exploration starting from a given cell\n",
    "    it marks the current cell as visited (by setting it to 0)\n",
    "    and recursively explores neighbor cells (up, down, left, and right).\n",
    "    If the current cell is out of bounds or is water (0), it returns immediately. \n",
    "    '''\n",
    "    if i < 0 or j < 0 or i >= len(grid) or j >= len(grid[0]) or grid[i][j] == 0:\n",
    "        return\n",
    "    grid[i][j] = 0\n",
    "    depth_explore(i + 1, j)\n",
    "    depth_explore(i - 1, j)\n",
    "    depth_explore(i, j + 1)\n",
    "    depth_explore(i, j - 1)"
   ]
  },
  {
   "cell_type": "code",
   "execution_count": 2,
   "id": "6b6bcad6",
   "metadata": {},
   "outputs": [],
   "source": [
    "def numIslands(grid: list) -> int:\n",
    "    '''\n",
    "    Iterates over each cell in the grid. \n",
    "    When it finds an unvisited land cell (1), it calls depth_explore to explore the entire island \n",
    "        and increments the island count.\n",
    "    '''\n",
    "    count = 0\n",
    "    for i in range(len(grid)):\n",
    "        for j in range(len(grid[0])):\n",
    "            if grid[i][j] == 1:\n",
    "                depth_explore(i, j)\n",
    "                count += 1\n",
    "\n",
    "    return count"
   ]
  },
  {
   "cell_type": "code",
   "execution_count": 3,
   "id": "b7f4d9b1",
   "metadata": {},
   "outputs": [],
   "source": [
    "grid = [[0, 1, 0],\n",
    "        [0, 0, 0],\n",
    "        [0, 1, 1]]"
   ]
  },
  {
   "cell_type": "code",
   "execution_count": 4,
   "id": "6cb6440b",
   "metadata": {},
   "outputs": [
    {
     "data": {
      "text/plain": [
       "2"
      ]
     },
     "execution_count": 4,
     "metadata": {},
     "output_type": "execute_result"
    }
   ],
   "source": [
    "numIslands(grid)"
   ]
  },
  {
   "cell_type": "code",
   "execution_count": 5,
   "id": "addd2790",
   "metadata": {},
   "outputs": [],
   "source": [
    "grid = [[0, 0, 0, 1],\n",
    "        [0, 0, 1, 0],\n",
    "        [0, 1, 0, 0]]"
   ]
  },
  {
   "cell_type": "code",
   "execution_count": 6,
   "id": "620e4873",
   "metadata": {},
   "outputs": [
    {
     "data": {
      "text/plain": [
       "3"
      ]
     },
     "execution_count": 6,
     "metadata": {},
     "output_type": "execute_result"
    }
   ],
   "source": [
    "numIslands(grid)"
   ]
  },
  {
   "cell_type": "code",
   "execution_count": 7,
   "id": "1003ccc2",
   "metadata": {},
   "outputs": [],
   "source": [
    "grid = [[0, 0, 0, 1], \n",
    "        [0, 0, 1, 1], \n",
    "        [0, 1, 0, 1]]"
   ]
  },
  {
   "cell_type": "code",
   "execution_count": 8,
   "id": "db47d92c",
   "metadata": {},
   "outputs": [
    {
     "data": {
      "text/plain": [
       "2"
      ]
     },
     "execution_count": 8,
     "metadata": {},
     "output_type": "execute_result"
    }
   ],
   "source": [
    "numIslands(grid)"
   ]
  },
  {
   "cell_type": "code",
   "execution_count": 9,
   "id": "36eafa06",
   "metadata": {},
   "outputs": [
    {
     "name": "stdout",
     "output_type": "stream",
     "text": [
      "924 ns ± 1.33 ns per loop (mean ± std. dev. of 7 runs, 1,000,000 loops each)\n"
     ]
    }
   ],
   "source": [
    "%timeit numIslands(grid)"
   ]
  }
 ],
 "metadata": {
  "kernelspec": {
   "display_name": "Python 3 (ipykernel)",
   "language": "python",
   "name": "python3"
  },
  "language_info": {
   "codemirror_mode": {
    "name": "ipython",
    "version": 3
   },
   "file_extension": ".py",
   "mimetype": "text/x-python",
   "name": "python",
   "nbconvert_exporter": "python",
   "pygments_lexer": "ipython3",
   "version": "3.11.1"
  }
 },
 "nbformat": 4,
 "nbformat_minor": 5
}
